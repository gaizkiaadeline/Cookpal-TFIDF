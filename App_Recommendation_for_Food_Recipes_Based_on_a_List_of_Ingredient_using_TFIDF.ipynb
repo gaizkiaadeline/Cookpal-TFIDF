{
  "nbformat": 4,
  "nbformat_minor": 0,
  "metadata": {
    "colab": {
      "provenance": []
    },
    "kernelspec": {
      "name": "python3",
      "display_name": "Python 3"
    },
    "language_info": {
      "name": "python"
    }
  },
  "cells": [
    {
      "cell_type": "markdown",
      "source": [
        "## Installasi NLTK menggunakan `pip`"
      ],
      "metadata": {
        "id": "bS3sVPVQzfxh"
      }
    },
    {
      "cell_type": "code",
      "execution_count": null,
      "metadata": {
        "id": "NmANio3I8GPA",
        "colab": {
          "base_uri": "https://localhost:8080/"
        },
        "outputId": "0d1ce027-e7d9-4c66-b770-d54e33a659c7"
      },
      "outputs": [
        {
          "output_type": "stream",
          "name": "stdout",
          "text": [
            "Looking in indexes: https://pypi.org/simple, https://us-python.pkg.dev/colab-wheels/public/simple/\n",
            "Requirement already satisfied: nltk in /usr/local/lib/python3.10/dist-packages (3.8.1)\n",
            "Requirement already satisfied: click in /usr/local/lib/python3.10/dist-packages (from nltk) (8.1.3)\n",
            "Requirement already satisfied: joblib in /usr/local/lib/python3.10/dist-packages (from nltk) (1.2.0)\n",
            "Requirement already satisfied: regex>=2021.8.3 in /usr/local/lib/python3.10/dist-packages (from nltk) (2022.10.31)\n",
            "Requirement already satisfied: tqdm in /usr/local/lib/python3.10/dist-packages (from nltk) (4.65.0)\n"
          ]
        }
      ],
      "source": [
        "!pip install nltk"
      ]
    },
    {
      "cell_type": "markdown",
      "source": [
        "## Mengimport library yang akan digunakan"
      ],
      "metadata": {
        "id": "HuQ7R-WD0Sf6"
      }
    },
    {
      "cell_type": "code",
      "source": [
        "from collections import Counter\n",
        "\n",
        "from nltk import download\n",
        "from nltk import ngrams, FreqDist\n",
        "from nltk.tokenize import RegexpTokenizer\n",
        "import numpy as np\n",
        "import matplotlib.pyplot as plt\n",
        "import pandas as pd"
      ],
      "metadata": {
        "id": "0hku3k2Q8gp7"
      },
      "execution_count": null,
      "outputs": []
    },
    {
      "cell_type": "markdown",
      "source": [
        "## Mengunduh package `punkt` untuk NLTK. Library ini digunakan untuk memecah kalimat."
      ],
      "metadata": {
        "id": "WUGMnlnq20xQ"
      }
    },
    {
      "cell_type": "code",
      "source": [
        "download(\"punkt\")"
      ],
      "metadata": {
        "id": "C4V54DhtHGoY",
        "colab": {
          "base_uri": "https://localhost:8080/"
        },
        "outputId": "f5bbd334-814f-4a2c-8228-d8c088cd2f67"
      },
      "execution_count": null,
      "outputs": [
        {
          "output_type": "stream",
          "name": "stderr",
          "text": [
            "[nltk_data] Downloading package punkt to /root/nltk_data...\n",
            "[nltk_data]   Unzipping tokenizers/punkt.zip.\n"
          ]
        },
        {
          "output_type": "execute_result",
          "data": {
            "text/plain": [
              "True"
            ]
          },
          "metadata": {},
          "execution_count": 3
        }
      ]
    },
    {
      "cell_type": "markdown",
      "source": [
        "## Membuka Google Drive"
      ],
      "metadata": {
        "id": "5AV7wlip7N6w"
      }
    },
    {
      "cell_type": "code",
      "source": [
        "from google.colab import drive\n",
        "drive.mount('/content/drive')"
      ],
      "metadata": {
        "colab": {
          "base_uri": "https://localhost:8080/"
        },
        "id": "RjqiABCS8vZ0",
        "outputId": "7e15594b-f2f7-406b-ba18-c11322fb8c81"
      },
      "execution_count": null,
      "outputs": [
        {
          "output_type": "stream",
          "name": "stdout",
          "text": [
            "Mounted at /content/drive\n"
          ]
        }
      ]
    },
    {
      "cell_type": "markdown",
      "source": [
        "## Buka data set resep (sumber: [Kaggle](https://www.kaggle.com/datasets/canggih/indonesian-food-recipes))"
      ],
      "metadata": {
        "id": "D2KVw5jf7Q8I"
      }
    },
    {
      "cell_type": "code",
      "source": [
        "df_ayam = pd.read_csv(\"drive/MyDrive/Colab Notebooks/dataset/dataset-ayam.csv\")\n",
        "df_ikan = pd.read_csv(\"drive/MyDrive/Colab Notebooks/dataset/dataset-ikan.csv\")\n",
        "df_kambing = pd.read_csv(\"drive/MyDrive/Colab Notebooks/dataset/dataset-kambing.csv\")\n",
        "df_sapi = pd.read_csv(\"drive/MyDrive/Colab Notebooks/dataset/dataset-sapi.csv\")\n",
        "df_tahu = pd.read_csv(\"drive/MyDrive/Colab Notebooks/dataset/dataset-tahu.csv\")\n",
        "df_telur = pd.read_csv(\"drive/MyDrive/Colab Notebooks/dataset/dataset-telur.csv\")\n",
        "df_tempe = pd.read_csv(\"drive/MyDrive/Colab Notebooks/dataset/dataset-tempe.csv\")\n",
        "df_udang = pd.read_csv(\"drive/MyDrive/Colab Notebooks/dataset/dataset-udang.csv\")"
      ],
      "metadata": {
        "id": "VTMwzrZl9Pw9"
      },
      "execution_count": null,
      "outputs": []
    },
    {
      "cell_type": "code",
      "source": [
        "df = pd.concat([df_ayam, df_ikan, df_kambing, df_sapi, df_tahu, df_telur, df_tempe, df_udang])\n",
        "df = df.reset_index()"
      ],
      "metadata": {
        "id": "7fNBDqQ8-goC"
      },
      "execution_count": null,
      "outputs": []
    },
    {
      "cell_type": "markdown",
      "source": [
        "## Mencoba mengahpus karakter yang bukan alfabet atau angka"
      ],
      "metadata": {
        "id": "crLV37oNe2CU"
      }
    },
    {
      "cell_type": "code",
      "source": [
        "df.Title = df.Title.str.replace(r\"[^0-9a-zA-Z\\s]\", \"\", regex=True)"
      ],
      "metadata": {
        "id": "KISC3RpZhCC1"
      },
      "execution_count": null,
      "outputs": []
    },
    {
      "cell_type": "markdown",
      "source": [
        "## Melakukan tokenization"
      ],
      "metadata": {
        "id": "tY6uE7w6fBow"
      }
    },
    {
      "cell_type": "code",
      "source": [
        "tokenizer = RegexpTokenizer(r'[a-zA-Z]+')\n",
        "tokenized_ingredients = tokenizer.tokenize(\" \".join(df.Ingredients.apply(lambda a: str(a).split(\"--\")).apply(lambda b: \" \".join(b))))"
      ],
      "metadata": {
        "id": "k-2-G1B5A1LU"
      },
      "execution_count": null,
      "outputs": []
    },
    {
      "cell_type": "code",
      "source": [
        "pd.Series(ngrams(tokenized_ingredients, 1)).value_counts().head(25)"
      ],
      "metadata": {
        "id": "74k9w7c_K-tX",
        "colab": {
          "base_uri": "https://localhost:8080/"
        },
        "outputId": "aaf4da21-5d1f-49fe-b983-515ef2a22a4f"
      },
      "execution_count": null,
      "outputs": [
        {
          "output_type": "execute_result",
          "data": {
            "text/plain": [
              "(bawang,)        26650\n",
              "(merah,)         17833\n",
              "(buah,)          17322\n",
              "(siung,)         16498\n",
              "(putih,)         15590\n",
              "(secukupnya,)    14852\n",
              "(sdm,)           12823\n",
              "(sdt,)           10453\n",
              "(daun,)           9075\n",
              "(cabe,)           8787\n",
              "(Secukupnya,)     7889\n",
              "(garam,)          7581\n",
              "(iris,)           7296\n",
              "(potong,)         7087\n",
              "(butir,)          6550\n",
              "(Garam,)          6345\n",
              "(bubuk,)          6015\n",
              "(rawit,)          5810\n",
              "(gula,)           5477\n",
              "(Bumbu,)          5276\n",
              "(air,)            5101\n",
              "(goreng,)         5040\n",
              "(Bawang,)         4847\n",
              "(ruas,)           4784\n",
              "(halus,)          4766\n",
              "dtype: int64"
            ]
          },
          "metadata": {},
          "execution_count": 10
        }
      ]
    },
    {
      "cell_type": "code",
      "source": [
        "words_series = pd.Series([\" \".join(y) for y in [tokenizer.tokenize(x) for x in df.Ingredients.apply(lambda a: str(a).replace(\"--\", \" \"))]])"
      ],
      "metadata": {
        "id": "6ljKKx-84FS9"
      },
      "execution_count": null,
      "outputs": []
    },
    {
      "cell_type": "code",
      "source": [
        "words_series = words_series.str.replace(r\"\\bsecukupnya\\b|\\bsdm\\b|\\bsdt\\b|\\bsendok\\b|\\bkg\\b|\\bgr\\b|\\bbh\\b|\\bkg\\b|\\bdipotong\\b|\\bsaya\\b|\\baku\\b\", \"\", regex=True)"
      ],
      "metadata": {
        "id": "QFG8DtnmOr3q"
      },
      "execution_count": null,
      "outputs": []
    },
    {
      "cell_type": "markdown",
      "source": [
        "## Pembuatan data set training"
      ],
      "metadata": {
        "id": "l_bge3KJfKXW"
      }
    },
    {
      "cell_type": "code",
      "source": [
        "dish_and_words = pd.concat([df.URL, words_series], keys=[\"Recipe\", \"Words\"], axis=1)"
      ],
      "metadata": {
        "id": "2TO6H7kR9uhk"
      },
      "execution_count": null,
      "outputs": []
    },
    {
      "cell_type": "code",
      "source": [
        "dish_and_words"
      ],
      "metadata": {
        "colab": {
          "base_uri": "https://localhost:8080/",
          "height": 424
        },
        "id": "GcPvjXZq99oy",
        "outputId": "8ca907be-e547-4876-cae7-7f5b44501fb9"
      },
      "execution_count": null,
      "outputs": [
        {
          "output_type": "execute_result",
          "data": {
            "text/plain": [
              "                                                  Recipe  \\\n",
              "0                     /id/resep/4473027-ayam-woku-manado   \n",
              "1             /id/resep/4471956-ayam-goreng-tulang-lunak   \n",
              "2                     /id/resep/4473057-ayam-cabai-kawin   \n",
              "3                          /id/resep/4473023-ayam-geprek   \n",
              "4                          /id/resep/4427438-minyak-ayam   \n",
              "...                                                  ...   \n",
              "15636               /id/resep/3794442-udang-saus-mentega   \n",
              "15637               /id/resep/3795267-jipang-tumis-udang   \n",
              "15638                /id/resep/3794945-tumis-udang-tempe   \n",
              "15639  /id/resep/3794623-tumis-kacang-panjang-terong-...   \n",
              "15640                /id/resep/3794009-siomay-udang-ayam   \n",
              "\n",
              "                                                   Words  \n",
              "0      Ekor Ayam Kampung potong Buah Jeruk Nipis Sdm ...  \n",
              "1       ayam  sesuai selera jangan kecil ya batang se...  \n",
              "2       ayam buah cabai hijau besar buah cabai merah ...  \n",
              "3       daging ayam  pakai fillet Secukupnya gula dan...  \n",
              "4       kulit ayam lemaknya siung bawang putih kating...  \n",
              "...                                                  ...  \n",
              "15636   udang segar buah bawang bombay kecil siung ba...  \n",
              "15637   jipang  pk  jipang muda yg kecil potong korek...  \n",
              "15638  siung bawang merah siung bawang putih buah cab...  \n",
              "15639  Stgah ikat kacang panjang ku bli ribu d psr Te...  \n",
              "15640   dada ayam  udang bersih  bawang putih  tepung...  \n",
              "\n",
              "[15641 rows x 2 columns]"
            ],
            "text/html": [
              "\n",
              "  <div id=\"df-df3c328b-f2c7-47ab-9c29-14e7a0a699cc\">\n",
              "    <div class=\"colab-df-container\">\n",
              "      <div>\n",
              "<style scoped>\n",
              "    .dataframe tbody tr th:only-of-type {\n",
              "        vertical-align: middle;\n",
              "    }\n",
              "\n",
              "    .dataframe tbody tr th {\n",
              "        vertical-align: top;\n",
              "    }\n",
              "\n",
              "    .dataframe thead th {\n",
              "        text-align: right;\n",
              "    }\n",
              "</style>\n",
              "<table border=\"1\" class=\"dataframe\">\n",
              "  <thead>\n",
              "    <tr style=\"text-align: right;\">\n",
              "      <th></th>\n",
              "      <th>Recipe</th>\n",
              "      <th>Words</th>\n",
              "    </tr>\n",
              "  </thead>\n",
              "  <tbody>\n",
              "    <tr>\n",
              "      <th>0</th>\n",
              "      <td>/id/resep/4473027-ayam-woku-manado</td>\n",
              "      <td>Ekor Ayam Kampung potong Buah Jeruk Nipis Sdm ...</td>\n",
              "    </tr>\n",
              "    <tr>\n",
              "      <th>1</th>\n",
              "      <td>/id/resep/4471956-ayam-goreng-tulang-lunak</td>\n",
              "      <td>ayam  sesuai selera jangan kecil ya batang se...</td>\n",
              "    </tr>\n",
              "    <tr>\n",
              "      <th>2</th>\n",
              "      <td>/id/resep/4473057-ayam-cabai-kawin</td>\n",
              "      <td>ayam buah cabai hijau besar buah cabai merah ...</td>\n",
              "    </tr>\n",
              "    <tr>\n",
              "      <th>3</th>\n",
              "      <td>/id/resep/4473023-ayam-geprek</td>\n",
              "      <td>daging ayam  pakai fillet Secukupnya gula dan...</td>\n",
              "    </tr>\n",
              "    <tr>\n",
              "      <th>4</th>\n",
              "      <td>/id/resep/4427438-minyak-ayam</td>\n",
              "      <td>kulit ayam lemaknya siung bawang putih kating...</td>\n",
              "    </tr>\n",
              "    <tr>\n",
              "      <th>...</th>\n",
              "      <td>...</td>\n",
              "      <td>...</td>\n",
              "    </tr>\n",
              "    <tr>\n",
              "      <th>15636</th>\n",
              "      <td>/id/resep/3794442-udang-saus-mentega</td>\n",
              "      <td>udang segar buah bawang bombay kecil siung ba...</td>\n",
              "    </tr>\n",
              "    <tr>\n",
              "      <th>15637</th>\n",
              "      <td>/id/resep/3795267-jipang-tumis-udang</td>\n",
              "      <td>jipang  pk  jipang muda yg kecil potong korek...</td>\n",
              "    </tr>\n",
              "    <tr>\n",
              "      <th>15638</th>\n",
              "      <td>/id/resep/3794945-tumis-udang-tempe</td>\n",
              "      <td>siung bawang merah siung bawang putih buah cab...</td>\n",
              "    </tr>\n",
              "    <tr>\n",
              "      <th>15639</th>\n",
              "      <td>/id/resep/3794623-tumis-kacang-panjang-terong-...</td>\n",
              "      <td>Stgah ikat kacang panjang ku bli ribu d psr Te...</td>\n",
              "    </tr>\n",
              "    <tr>\n",
              "      <th>15640</th>\n",
              "      <td>/id/resep/3794009-siomay-udang-ayam</td>\n",
              "      <td>dada ayam  udang bersih  bawang putih  tepung...</td>\n",
              "    </tr>\n",
              "  </tbody>\n",
              "</table>\n",
              "<p>15641 rows × 2 columns</p>\n",
              "</div>\n",
              "      <button class=\"colab-df-convert\" onclick=\"convertToInteractive('df-df3c328b-f2c7-47ab-9c29-14e7a0a699cc')\"\n",
              "              title=\"Convert this dataframe to an interactive table.\"\n",
              "              style=\"display:none;\">\n",
              "        \n",
              "  <svg xmlns=\"http://www.w3.org/2000/svg\" height=\"24px\"viewBox=\"0 0 24 24\"\n",
              "       width=\"24px\">\n",
              "    <path d=\"M0 0h24v24H0V0z\" fill=\"none\"/>\n",
              "    <path d=\"M18.56 5.44l.94 2.06.94-2.06 2.06-.94-2.06-.94-.94-2.06-.94 2.06-2.06.94zm-11 1L8.5 8.5l.94-2.06 2.06-.94-2.06-.94L8.5 2.5l-.94 2.06-2.06.94zm10 10l.94 2.06.94-2.06 2.06-.94-2.06-.94-.94-2.06-.94 2.06-2.06.94z\"/><path d=\"M17.41 7.96l-1.37-1.37c-.4-.4-.92-.59-1.43-.59-.52 0-1.04.2-1.43.59L10.3 9.45l-7.72 7.72c-.78.78-.78 2.05 0 2.83L4 21.41c.39.39.9.59 1.41.59.51 0 1.02-.2 1.41-.59l7.78-7.78 2.81-2.81c.8-.78.8-2.07 0-2.86zM5.41 20L4 18.59l7.72-7.72 1.47 1.35L5.41 20z\"/>\n",
              "  </svg>\n",
              "      </button>\n",
              "      \n",
              "  <style>\n",
              "    .colab-df-container {\n",
              "      display:flex;\n",
              "      flex-wrap:wrap;\n",
              "      gap: 12px;\n",
              "    }\n",
              "\n",
              "    .colab-df-convert {\n",
              "      background-color: #E8F0FE;\n",
              "      border: none;\n",
              "      border-radius: 50%;\n",
              "      cursor: pointer;\n",
              "      display: none;\n",
              "      fill: #1967D2;\n",
              "      height: 32px;\n",
              "      padding: 0 0 0 0;\n",
              "      width: 32px;\n",
              "    }\n",
              "\n",
              "    .colab-df-convert:hover {\n",
              "      background-color: #E2EBFA;\n",
              "      box-shadow: 0px 1px 2px rgba(60, 64, 67, 0.3), 0px 1px 3px 1px rgba(60, 64, 67, 0.15);\n",
              "      fill: #174EA6;\n",
              "    }\n",
              "\n",
              "    [theme=dark] .colab-df-convert {\n",
              "      background-color: #3B4455;\n",
              "      fill: #D2E3FC;\n",
              "    }\n",
              "\n",
              "    [theme=dark] .colab-df-convert:hover {\n",
              "      background-color: #434B5C;\n",
              "      box-shadow: 0px 1px 3px 1px rgba(0, 0, 0, 0.15);\n",
              "      filter: drop-shadow(0px 1px 2px rgba(0, 0, 0, 0.3));\n",
              "      fill: #FFFFFF;\n",
              "    }\n",
              "  </style>\n",
              "\n",
              "      <script>\n",
              "        const buttonEl =\n",
              "          document.querySelector('#df-df3c328b-f2c7-47ab-9c29-14e7a0a699cc button.colab-df-convert');\n",
              "        buttonEl.style.display =\n",
              "          google.colab.kernel.accessAllowed ? 'block' : 'none';\n",
              "\n",
              "        async function convertToInteractive(key) {\n",
              "          const element = document.querySelector('#df-df3c328b-f2c7-47ab-9c29-14e7a0a699cc');\n",
              "          const dataTable =\n",
              "            await google.colab.kernel.invokeFunction('convertToInteractive',\n",
              "                                                     [key], {});\n",
              "          if (!dataTable) return;\n",
              "\n",
              "          const docLinkHtml = 'Like what you see? Visit the ' +\n",
              "            '<a target=\"_blank\" href=https://colab.research.google.com/notebooks/data_table.ipynb>data table notebook</a>'\n",
              "            + ' to learn more about interactive tables.';\n",
              "          element.innerHTML = '';\n",
              "          dataTable['output_type'] = 'display_data';\n",
              "          await google.colab.output.renderOutput(dataTable, element);\n",
              "          const docLink = document.createElement('div');\n",
              "          docLink.innerHTML = docLinkHtml;\n",
              "          element.appendChild(docLink);\n",
              "        }\n",
              "      </script>\n",
              "    </div>\n",
              "  </div>\n",
              "  "
            ]
          },
          "metadata": {},
          "execution_count": 14
        }
      ]
    },
    {
      "cell_type": "markdown",
      "source": [
        "## Perhitungan kemiripan bahan-bahan dan evaluasi output"
      ],
      "metadata": {
        "id": "_fK-Mlzogfjy"
      }
    },
    {
      "cell_type": "code",
      "source": [
        "from sklearn.feature_extraction.text import CountVectorizer\n",
        "from sklearn.feature_extraction.text import TfidfVectorizer"
      ],
      "metadata": {
        "id": "wwJ5NzaM-pOK"
      },
      "execution_count": null,
      "outputs": []
    },
    {
      "cell_type": "code",
      "source": [
        "vectorizer = TfidfVectorizer()"
      ],
      "metadata": {
        "id": "lJwASnoyHg60"
      },
      "execution_count": null,
      "outputs": []
    },
    {
      "cell_type": "code",
      "source": [
        "def compute_similarity(a, b):\n",
        "  tfidf = vectorizer.fit_transform([a, b])\n",
        "  return ((tfidf * tfidf.T).toarray())[0,1]"
      ],
      "metadata": {
        "id": "Id25N1bHIvdC"
      },
      "execution_count": null,
      "outputs": []
    },
    {
      "cell_type": "code",
      "source": [
        "tests = [\n",
        "    [\"udang\", \"tepung\", \"lada\"],\n",
        "    [\"telur\", \"cabai hijau\", \"bawang putih\"],\n",
        "    [\"kambing\", \"pete\"],\n",
        "    [\"lobak\", \"kacang\"],\n",
        "    [\"tahu\", \"selada\"]\n",
        "]\n",
        "scores = []\n",
        "\n",
        "for j in tests:\n",
        "  sim = []\n",
        "  for i, (recipe, words) in enumerate(zip(dish_and_words.Recipe, dish_and_words.Words)):\n",
        "    sim.append((i, recipe, compute_similarity(words, \" \".join(j))))\n",
        "\n",
        "  sim.sort(key=lambda x: x[2], reverse=True)\n",
        "  sim = sim[:5]\n",
        "  score = 0\n",
        "  for k in sim:\n",
        "    for l in j:\n",
        "      score += max(0, min(dish_and_words.loc[k[0], \"Words\"].find(l) + 1, 1))\n",
        "  scores.append(score/len(j) * 5)\n",
        "\n",
        "plt.bar(np.arange(len(scores)), scores)"
      ],
      "metadata": {
        "id": "FZJNTgr6qq5s",
        "colab": {
          "base_uri": "https://localhost:8080/",
          "height": 447
        },
        "outputId": "31741fb4-24b6-47fb-c6ae-cdc1ec4f05d3"
      },
      "execution_count": null,
      "outputs": [
        {
          "output_type": "execute_result",
          "data": {
            "text/plain": [
              "<BarContainer object of 5 artists>"
            ]
          },
          "metadata": {},
          "execution_count": 35
        },
        {
          "output_type": "display_data",
          "data": {
            "text/plain": [
              "<Figure size 640x480 with 1 Axes>"
            ],
            "image/png": "[encoded data removed]"
          },
          "metadata": {}
        }
      ]
    }
  ]
}